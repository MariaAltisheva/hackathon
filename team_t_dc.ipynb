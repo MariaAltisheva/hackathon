{
 "cells": [
  {
   "cell_type": "code",
   "execution_count": 1,
   "outputs": [],
   "source": [
    "import pandas as pd"
   ],
   "metadata": {
    "collapsed": false,
    "ExecuteTime": {
     "end_time": "2023-07-07T00:51:30.220813570Z",
     "start_time": "2023-07-07T00:51:29.621373577Z"
    }
   }
  },
  {
   "cell_type": "code",
   "execution_count": 13,
   "outputs": [],
   "source": [
    "df_data = pd.read_csv('data.csv')\n",
    "df_bacterial_descriptors = pd.read_csv('bacterial_descriptors.csv')\n",
    "df_drug_descriptors = pd.read_csv('drug_descriptors.csv')"
   ],
   "metadata": {
    "collapsed": false,
    "ExecuteTime": {
     "end_time": "2023-07-07T00:57:55.018152093Z",
     "start_time": "2023-07-07T00:57:54.936231118Z"
    }
   }
  },
  {
   "cell_type": "code",
   "execution_count": 14,
   "outputs": [
    {
     "data": {
      "text/plain": "       Tax_id                         Bacteria   kingdom subkingdom   \n0     ['470']          Acinetobacter baumannii  Bacteria        NaN  \\\n1     ['715']  Actinobacillus pleuropneumoniae  Bacteria        NaN   \n2    ['5599']             Alternaria alternata     Fungi    Dikarya   \n3    ['5059']               Aspergillus flavus     Fungi    Dikarya   \n4  ['162425']             Aspergillus nidulans     Fungi    Dikarya   \n\n          clade          phylum                class           order   \n0           NaN  Pseudomonadota  Gammaproteobacteria    Moraxellales  \\\n1           NaN  Pseudomonadota  Gammaproteobacteria  Pasteurellales   \n2  Opisthokonta      Ascomycota      Dothideomycetes    Pleosporales   \n3  Opisthokonta      Ascomycota       Eurotiomycetes      Eurotiales   \n4  Opisthokonta      Ascomycota       Eurotiomycetes      Eurotiales   \n\n            family           genus   \n0    Moraxellaceae   Acinetobacter  \\\n1  Pasteurellaceae  Actinobacillus   \n2    Pleosporaceae      Alternaria   \n3   Aspergillaceae     Aspergillus   \n4   Aspergillaceae     Aspergillus   \n\n                                         species gram  min_Incub_period, h   \n0  Acinetobacter calcoaceticus/baumannii complex    n                 24.0  \\\n1                Actinobacillus pleuropneumoniae    n                 24.0   \n2                           Alternaria alternata  NaN                 48.0   \n3                             Aspergillus flavus  NaN                 24.0   \n4                           Aspergillus nidulans  NaN                 24.0   \n\n   avg_Incub_period, h  max_Incub_period, h  growth_temp, C  biosafety_level   \n0                 36.0                 48.0              37                2  \\\n1                 36.0                 48.0              37                2   \n2                192.0                336.0              30                2   \n3                 36.0                 48.0              37                2   \n4                 36.0                 48.0              30                1   \n\n  isolated_from  \n0         urine  \n1         lungs  \n2          food  \n3          soil  \n4          soil  ",
      "text/html": "<div>\n<style scoped>\n    .dataframe tbody tr th:only-of-type {\n        vertical-align: middle;\n    }\n\n    .dataframe tbody tr th {\n        vertical-align: top;\n    }\n\n    .dataframe thead th {\n        text-align: right;\n    }\n</style>\n<table border=\"1\" class=\"dataframe\">\n  <thead>\n    <tr style=\"text-align: right;\">\n      <th></th>\n      <th>Tax_id</th>\n      <th>Bacteria</th>\n      <th>kingdom</th>\n      <th>subkingdom</th>\n      <th>clade</th>\n      <th>phylum</th>\n      <th>class</th>\n      <th>order</th>\n      <th>family</th>\n      <th>genus</th>\n      <th>species</th>\n      <th>gram</th>\n      <th>min_Incub_period, h</th>\n      <th>avg_Incub_period, h</th>\n      <th>max_Incub_period, h</th>\n      <th>growth_temp, C</th>\n      <th>biosafety_level</th>\n      <th>isolated_from</th>\n    </tr>\n  </thead>\n  <tbody>\n    <tr>\n      <th>0</th>\n      <td>['470']</td>\n      <td>Acinetobacter baumannii</td>\n      <td>Bacteria</td>\n      <td>NaN</td>\n      <td>NaN</td>\n      <td>Pseudomonadota</td>\n      <td>Gammaproteobacteria</td>\n      <td>Moraxellales</td>\n      <td>Moraxellaceae</td>\n      <td>Acinetobacter</td>\n      <td>Acinetobacter calcoaceticus/baumannii complex</td>\n      <td>n</td>\n      <td>24.0</td>\n      <td>36.0</td>\n      <td>48.0</td>\n      <td>37</td>\n      <td>2</td>\n      <td>urine</td>\n    </tr>\n    <tr>\n      <th>1</th>\n      <td>['715']</td>\n      <td>Actinobacillus pleuropneumoniae</td>\n      <td>Bacteria</td>\n      <td>NaN</td>\n      <td>NaN</td>\n      <td>Pseudomonadota</td>\n      <td>Gammaproteobacteria</td>\n      <td>Pasteurellales</td>\n      <td>Pasteurellaceae</td>\n      <td>Actinobacillus</td>\n      <td>Actinobacillus pleuropneumoniae</td>\n      <td>n</td>\n      <td>24.0</td>\n      <td>36.0</td>\n      <td>48.0</td>\n      <td>37</td>\n      <td>2</td>\n      <td>lungs</td>\n    </tr>\n    <tr>\n      <th>2</th>\n      <td>['5599']</td>\n      <td>Alternaria alternata</td>\n      <td>Fungi</td>\n      <td>Dikarya</td>\n      <td>Opisthokonta</td>\n      <td>Ascomycota</td>\n      <td>Dothideomycetes</td>\n      <td>Pleosporales</td>\n      <td>Pleosporaceae</td>\n      <td>Alternaria</td>\n      <td>Alternaria alternata</td>\n      <td>NaN</td>\n      <td>48.0</td>\n      <td>192.0</td>\n      <td>336.0</td>\n      <td>30</td>\n      <td>2</td>\n      <td>food</td>\n    </tr>\n    <tr>\n      <th>3</th>\n      <td>['5059']</td>\n      <td>Aspergillus flavus</td>\n      <td>Fungi</td>\n      <td>Dikarya</td>\n      <td>Opisthokonta</td>\n      <td>Ascomycota</td>\n      <td>Eurotiomycetes</td>\n      <td>Eurotiales</td>\n      <td>Aspergillaceae</td>\n      <td>Aspergillus</td>\n      <td>Aspergillus flavus</td>\n      <td>NaN</td>\n      <td>24.0</td>\n      <td>36.0</td>\n      <td>48.0</td>\n      <td>37</td>\n      <td>2</td>\n      <td>soil</td>\n    </tr>\n    <tr>\n      <th>4</th>\n      <td>['162425']</td>\n      <td>Aspergillus nidulans</td>\n      <td>Fungi</td>\n      <td>Dikarya</td>\n      <td>Opisthokonta</td>\n      <td>Ascomycota</td>\n      <td>Eurotiomycetes</td>\n      <td>Eurotiales</td>\n      <td>Aspergillaceae</td>\n      <td>Aspergillus</td>\n      <td>Aspergillus nidulans</td>\n      <td>NaN</td>\n      <td>24.0</td>\n      <td>36.0</td>\n      <td>48.0</td>\n      <td>30</td>\n      <td>1</td>\n      <td>soil</td>\n    </tr>\n  </tbody>\n</table>\n</div>"
     },
     "execution_count": 14,
     "metadata": {},
     "output_type": "execute_result"
    }
   ],
   "source": [
    "df_bacterial_descriptors.head()"
   ],
   "metadata": {
    "collapsed": false,
    "ExecuteTime": {
     "end_time": "2023-07-07T00:57:55.630696315Z",
     "start_time": "2023-07-07T00:57:55.560354520Z"
    }
   }
  },
  {
   "cell_type": "code",
   "execution_count": 15,
   "outputs": [
    {
     "data": {
      "text/plain": "   Unnamed: 0         drug        chemID           prefered_name   \n0           0  Amoxicillin    CHEMBL1082             AMOXICILLIN  \\\n1           1   Penicillin    CHEMBL1223  PENICILLIN G POTASSIUM   \n2           2   Vancomycin  CHEMBL262777              VANCOMYCIN   \n3           3   Gentamicin  CHEMBL463809           GENTAMICIN C1   \n4           4  Ceftazidime   CHEMBL44354             CEFTAZIDIME   \n\n                                              smiles  \n0  CC1(C)S[C@@H]2[C@H](NC(=O)[C@H](N)c3ccc(O)cc3)...  \n1  CC1(C)S[C@@H]2[C@H](NC(=O)Cc3ccccc3)C(=O)N2[C@...  \n2  CN[C@H](CC(C)C)C(=O)N[C@H]1C(=O)N[C@@H](CC(N)=...  \n3  CN[C@@H]1[C@@H](O)[C@@H](O[C@@H]2[C@@H](O)[C@H...  \n4  CC(C)(O/N=C(\\C(=O)N[C@@H]1C(=O)N2C(C(=O)[O-])=...  ",
      "text/html": "<div>\n<style scoped>\n    .dataframe tbody tr th:only-of-type {\n        vertical-align: middle;\n    }\n\n    .dataframe tbody tr th {\n        vertical-align: top;\n    }\n\n    .dataframe thead th {\n        text-align: right;\n    }\n</style>\n<table border=\"1\" class=\"dataframe\">\n  <thead>\n    <tr style=\"text-align: right;\">\n      <th></th>\n      <th>Unnamed: 0</th>\n      <th>drug</th>\n      <th>chemID</th>\n      <th>prefered_name</th>\n      <th>smiles</th>\n    </tr>\n  </thead>\n  <tbody>\n    <tr>\n      <th>0</th>\n      <td>0</td>\n      <td>Amoxicillin</td>\n      <td>CHEMBL1082</td>\n      <td>AMOXICILLIN</td>\n      <td>CC1(C)S[C@@H]2[C@H](NC(=O)[C@H](N)c3ccc(O)cc3)...</td>\n    </tr>\n    <tr>\n      <th>1</th>\n      <td>1</td>\n      <td>Penicillin</td>\n      <td>CHEMBL1223</td>\n      <td>PENICILLIN G POTASSIUM</td>\n      <td>CC1(C)S[C@@H]2[C@H](NC(=O)Cc3ccccc3)C(=O)N2[C@...</td>\n    </tr>\n    <tr>\n      <th>2</th>\n      <td>2</td>\n      <td>Vancomycin</td>\n      <td>CHEMBL262777</td>\n      <td>VANCOMYCIN</td>\n      <td>CN[C@H](CC(C)C)C(=O)N[C@H]1C(=O)N[C@@H](CC(N)=...</td>\n    </tr>\n    <tr>\n      <th>3</th>\n      <td>3</td>\n      <td>Gentamicin</td>\n      <td>CHEMBL463809</td>\n      <td>GENTAMICIN C1</td>\n      <td>CN[C@@H]1[C@@H](O)[C@@H](O[C@@H]2[C@@H](O)[C@H...</td>\n    </tr>\n    <tr>\n      <th>4</th>\n      <td>4</td>\n      <td>Ceftazidime</td>\n      <td>CHEMBL44354</td>\n      <td>CEFTAZIDIME</td>\n      <td>CC(C)(O/N=C(\\C(=O)N[C@@H]1C(=O)N2C(C(=O)[O-])=...</td>\n    </tr>\n  </tbody>\n</table>\n</div>"
     },
     "execution_count": 15,
     "metadata": {},
     "output_type": "execute_result"
    }
   ],
   "source": [
    "df_drug_descriptors.head()"
   ],
   "metadata": {
    "collapsed": false,
    "ExecuteTime": {
     "end_time": "2023-07-07T00:57:56.479750859Z",
     "start_time": "2023-07-07T00:57:56.428940462Z"
    }
   }
  },
  {
   "cell_type": "code",
   "execution_count": 16,
   "outputs": [
    {
     "data": {
      "text/plain": "   Unnamed: 0.1  Unnamed: 0            Bacteria   \n0             0          86    Escherichia coli  \\\n1             1          87    Escherichia coli   \n2             2         679    Escherichia coli   \n3             3         680    Escherichia coli   \n4             4         638  Micrococcus luteus   \n\n                                      NP_Synthesis         Drug   \n0            chem_synthesis_reduction_by_D_maltose  Amoxicillin  \\\n1            chem_synthesis_reduction_by_D_maltose   Penicillin   \n2            chem_synthesis_reduction_by_D_maltose  Amoxicillin   \n3            chem_synthesis_reduction_by_D_maltose   Penicillin   \n4  green_synthesis from fungus  Aspergillus flavus   Vancomycin   \n\n               Drug_class_drug_bank  Drug_dose NP_concentration  NP size_min   \n0                           Lactams        NaN              NaN          4.0  \\\n1  Carboxylic acids and derivatives        NaN              NaN          4.0   \n2                           Lactams        NaN              NaN         15.0   \n3  Carboxylic acids and derivatives        NaN              NaN         15.0   \n4  Carboxylic acids and derivatives       30.0              100          5.0   \n\n   NP size_max  NP size_avg      shape          method ZOI_drug ZOI_NP   \n0         10.0          8.0  spherical             MIC      32+    6.3  \\\n1         10.0          8.0  spherical             MIC      32+    6.3   \n2         30.0         28.0  spherical             MIC      32+     25   \n3         30.0         28.0  spherical             MIC      32+     25   \n4         30.0         21.0  spherical  disc_diffusion        0     14   \n\n  ZOI_drug_NP  fold_increase_in_antibacterial_activity (%)  MDR_check  \n0         32+                                          NaN          1  \n1         32+                                          NaN          1  \n2         32+                                          NaN          1  \n3         32+                                          NaN          1  \n4        17+2                                         7.02          1  ",
      "text/html": "<div>\n<style scoped>\n    .dataframe tbody tr th:only-of-type {\n        vertical-align: middle;\n    }\n\n    .dataframe tbody tr th {\n        vertical-align: top;\n    }\n\n    .dataframe thead th {\n        text-align: right;\n    }\n</style>\n<table border=\"1\" class=\"dataframe\">\n  <thead>\n    <tr style=\"text-align: right;\">\n      <th></th>\n      <th>Unnamed: 0.1</th>\n      <th>Unnamed: 0</th>\n      <th>Bacteria</th>\n      <th>NP_Synthesis</th>\n      <th>Drug</th>\n      <th>Drug_class_drug_bank</th>\n      <th>Drug_dose</th>\n      <th>NP_concentration</th>\n      <th>NP size_min</th>\n      <th>NP size_max</th>\n      <th>NP size_avg</th>\n      <th>shape</th>\n      <th>method</th>\n      <th>ZOI_drug</th>\n      <th>ZOI_NP</th>\n      <th>ZOI_drug_NP</th>\n      <th>fold_increase_in_antibacterial_activity (%)</th>\n      <th>MDR_check</th>\n    </tr>\n  </thead>\n  <tbody>\n    <tr>\n      <th>0</th>\n      <td>0</td>\n      <td>86</td>\n      <td>Escherichia coli</td>\n      <td>chem_synthesis_reduction_by_D_maltose</td>\n      <td>Amoxicillin</td>\n      <td>Lactams</td>\n      <td>NaN</td>\n      <td>NaN</td>\n      <td>4.0</td>\n      <td>10.0</td>\n      <td>8.0</td>\n      <td>spherical</td>\n      <td>MIC</td>\n      <td>32+</td>\n      <td>6.3</td>\n      <td>32+</td>\n      <td>NaN</td>\n      <td>1</td>\n    </tr>\n    <tr>\n      <th>1</th>\n      <td>1</td>\n      <td>87</td>\n      <td>Escherichia coli</td>\n      <td>chem_synthesis_reduction_by_D_maltose</td>\n      <td>Penicillin</td>\n      <td>Carboxylic acids and derivatives</td>\n      <td>NaN</td>\n      <td>NaN</td>\n      <td>4.0</td>\n      <td>10.0</td>\n      <td>8.0</td>\n      <td>spherical</td>\n      <td>MIC</td>\n      <td>32+</td>\n      <td>6.3</td>\n      <td>32+</td>\n      <td>NaN</td>\n      <td>1</td>\n    </tr>\n    <tr>\n      <th>2</th>\n      <td>2</td>\n      <td>679</td>\n      <td>Escherichia coli</td>\n      <td>chem_synthesis_reduction_by_D_maltose</td>\n      <td>Amoxicillin</td>\n      <td>Lactams</td>\n      <td>NaN</td>\n      <td>NaN</td>\n      <td>15.0</td>\n      <td>30.0</td>\n      <td>28.0</td>\n      <td>spherical</td>\n      <td>MIC</td>\n      <td>32+</td>\n      <td>25</td>\n      <td>32+</td>\n      <td>NaN</td>\n      <td>1</td>\n    </tr>\n    <tr>\n      <th>3</th>\n      <td>3</td>\n      <td>680</td>\n      <td>Escherichia coli</td>\n      <td>chem_synthesis_reduction_by_D_maltose</td>\n      <td>Penicillin</td>\n      <td>Carboxylic acids and derivatives</td>\n      <td>NaN</td>\n      <td>NaN</td>\n      <td>15.0</td>\n      <td>30.0</td>\n      <td>28.0</td>\n      <td>spherical</td>\n      <td>MIC</td>\n      <td>32+</td>\n      <td>25</td>\n      <td>32+</td>\n      <td>NaN</td>\n      <td>1</td>\n    </tr>\n    <tr>\n      <th>4</th>\n      <td>4</td>\n      <td>638</td>\n      <td>Micrococcus luteus</td>\n      <td>green_synthesis from fungus  Aspergillus flavus</td>\n      <td>Vancomycin</td>\n      <td>Carboxylic acids and derivatives</td>\n      <td>30.0</td>\n      <td>100</td>\n      <td>5.0</td>\n      <td>30.0</td>\n      <td>21.0</td>\n      <td>spherical</td>\n      <td>disc_diffusion</td>\n      <td>0</td>\n      <td>14</td>\n      <td>17+2</td>\n      <td>7.02</td>\n      <td>1</td>\n    </tr>\n  </tbody>\n</table>\n</div>"
     },
     "execution_count": 16,
     "metadata": {},
     "output_type": "execute_result"
    }
   ],
   "source": [
    "df_data.head()"
   ],
   "metadata": {
    "collapsed": false,
    "ExecuteTime": {
     "end_time": "2023-07-07T00:57:57.176963331Z",
     "start_time": "2023-07-07T00:57:57.069511843Z"
    }
   }
  },
  {
   "cell_type": "code",
   "execution_count": 1,
   "outputs": [
    {
     "name": "stdout",
     "output_type": "stream",
     "text": [
      "1\n"
     ]
    }
   ],
   "source": [
    "print(1)"
   ],
   "metadata": {
    "collapsed": false,
    "ExecuteTime": {
     "end_time": "2023-07-07T08:16:12.528506998Z",
     "start_time": "2023-07-07T07:56:47.672516493Z"
    }
   }
  },
  {
   "cell_type": "code",
   "execution_count": null,
   "outputs": [],
   "source": [],
   "metadata": {
    "collapsed": false
   }
  }
 ],
 "metadata": {
  "kernelspec": {
   "display_name": "Python 3",
   "language": "python",
   "name": "python3"
  },
  "language_info": {
   "codemirror_mode": {
    "name": "ipython",
    "version": 2
   },
   "file_extension": ".py",
   "mimetype": "text/x-python",
   "name": "python",
   "nbconvert_exporter": "python",
   "pygments_lexer": "ipython2",
   "version": "2.7.6"
  }
 },
 "nbformat": 4,
 "nbformat_minor": 0
}
